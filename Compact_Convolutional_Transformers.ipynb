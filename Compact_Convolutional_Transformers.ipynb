{
  "nbformat": 4,
  "nbformat_minor": 0,
  "metadata": {
    "colab": {
      "name": "Compact Convolutional Transformers.ipynb",
      "provenance": [],
      "authorship_tag": "ABX9TyNR4fT8WJifsfjwJYqNh9WI",
      "include_colab_link": true
    },
    "kernelspec": {
      "name": "python3",
      "display_name": "Python 3"
    },
    "language_info": {
      "name": "python"
    },
    "accelerator": "GPU"
  },
  "cells": [
    {
      "cell_type": "markdown",
      "metadata": {
        "id": "view-in-github",
        "colab_type": "text"
      },
      "source": [
        "<a href=\"https://colab.research.google.com/github/KBVKarthik/Keras-Computer-Vision-Models/blob/main/Compact_Convolutional_Transformers.ipynb\" target=\"_parent\"><img src=\"https://colab.research.google.com/assets/colab-badge.svg\" alt=\"Open In Colab\"/></a>"
      ]
    },
    {
      "cell_type": "code",
      "metadata": {
        "colab": {
          "base_uri": "https://localhost:8080/"
        },
        "id": "IK6QvdLwsX3R",
        "outputId": "8b4c38db-f169-4f88-af49-aaf29e2c9e36"
      },
      "source": [
        "!pip install -U -q tensorflow-addons"
      ],
      "execution_count": 10,
      "outputs": [
        {
          "output_type": "stream",
          "text": [
            "\u001b[?25l\r\u001b[K     |▌                               | 10 kB 29.6 MB/s eta 0:00:01\r\u001b[K     |█                               | 20 kB 32.2 MB/s eta 0:00:01\r\u001b[K     |█▌                              | 30 kB 14.1 MB/s eta 0:00:01\r\u001b[K     |██                              | 40 kB 11.0 MB/s eta 0:00:01\r\u001b[K     |██▍                             | 51 kB 5.1 MB/s eta 0:00:01\r\u001b[K     |███                             | 61 kB 5.5 MB/s eta 0:00:01\r\u001b[K     |███▍                            | 71 kB 5.0 MB/s eta 0:00:01\r\u001b[K     |███▉                            | 81 kB 5.7 MB/s eta 0:00:01\r\u001b[K     |████▍                           | 92 kB 5.7 MB/s eta 0:00:01\r\u001b[K     |████▉                           | 102 kB 5.0 MB/s eta 0:00:01\r\u001b[K     |█████▎                          | 112 kB 5.0 MB/s eta 0:00:01\r\u001b[K     |█████▉                          | 122 kB 5.0 MB/s eta 0:00:01\r\u001b[K     |██████▎                         | 133 kB 5.0 MB/s eta 0:00:01\r\u001b[K     |██████▊                         | 143 kB 5.0 MB/s eta 0:00:01\r\u001b[K     |███████▎                        | 153 kB 5.0 MB/s eta 0:00:01\r\u001b[K     |███████▊                        | 163 kB 5.0 MB/s eta 0:00:01\r\u001b[K     |████████▏                       | 174 kB 5.0 MB/s eta 0:00:01\r\u001b[K     |████████▊                       | 184 kB 5.0 MB/s eta 0:00:01\r\u001b[K     |█████████▏                      | 194 kB 5.0 MB/s eta 0:00:01\r\u001b[K     |█████████▋                      | 204 kB 5.0 MB/s eta 0:00:01\r\u001b[K     |██████████▏                     | 215 kB 5.0 MB/s eta 0:00:01\r\u001b[K     |██████████▋                     | 225 kB 5.0 MB/s eta 0:00:01\r\u001b[K     |███████████                     | 235 kB 5.0 MB/s eta 0:00:01\r\u001b[K     |███████████▋                    | 245 kB 5.0 MB/s eta 0:00:01\r\u001b[K     |████████████                    | 256 kB 5.0 MB/s eta 0:00:01\r\u001b[K     |████████████▌                   | 266 kB 5.0 MB/s eta 0:00:01\r\u001b[K     |█████████████                   | 276 kB 5.0 MB/s eta 0:00:01\r\u001b[K     |█████████████▌                  | 286 kB 5.0 MB/s eta 0:00:01\r\u001b[K     |██████████████                  | 296 kB 5.0 MB/s eta 0:00:01\r\u001b[K     |██████████████▌                 | 307 kB 5.0 MB/s eta 0:00:01\r\u001b[K     |███████████████                 | 317 kB 5.0 MB/s eta 0:00:01\r\u001b[K     |███████████████▍                | 327 kB 5.0 MB/s eta 0:00:01\r\u001b[K     |████████████████                | 337 kB 5.0 MB/s eta 0:00:01\r\u001b[K     |████████████████▍               | 348 kB 5.0 MB/s eta 0:00:01\r\u001b[K     |████████████████▉               | 358 kB 5.0 MB/s eta 0:00:01\r\u001b[K     |█████████████████▍              | 368 kB 5.0 MB/s eta 0:00:01\r\u001b[K     |█████████████████▉              | 378 kB 5.0 MB/s eta 0:00:01\r\u001b[K     |██████████████████▎             | 389 kB 5.0 MB/s eta 0:00:01\r\u001b[K     |██████████████████▉             | 399 kB 5.0 MB/s eta 0:00:01\r\u001b[K     |███████████████████▎            | 409 kB 5.0 MB/s eta 0:00:01\r\u001b[K     |███████████████████▊            | 419 kB 5.0 MB/s eta 0:00:01\r\u001b[K     |████████████████████▎           | 430 kB 5.0 MB/s eta 0:00:01\r\u001b[K     |████████████████████▊           | 440 kB 5.0 MB/s eta 0:00:01\r\u001b[K     |█████████████████████▏          | 450 kB 5.0 MB/s eta 0:00:01\r\u001b[K     |█████████████████████▊          | 460 kB 5.0 MB/s eta 0:00:01\r\u001b[K     |██████████████████████▏         | 471 kB 5.0 MB/s eta 0:00:01\r\u001b[K     |██████████████████████▋         | 481 kB 5.0 MB/s eta 0:00:01\r\u001b[K     |███████████████████████▏        | 491 kB 5.0 MB/s eta 0:00:01\r\u001b[K     |███████████████████████▋        | 501 kB 5.0 MB/s eta 0:00:01\r\u001b[K     |████████████████████████        | 512 kB 5.0 MB/s eta 0:00:01\r\u001b[K     |████████████████████████▋       | 522 kB 5.0 MB/s eta 0:00:01\r\u001b[K     |█████████████████████████       | 532 kB 5.0 MB/s eta 0:00:01\r\u001b[K     |█████████████████████████▌      | 542 kB 5.0 MB/s eta 0:00:01\r\u001b[K     |██████████████████████████      | 552 kB 5.0 MB/s eta 0:00:01\r\u001b[K     |██████████████████████████▌     | 563 kB 5.0 MB/s eta 0:00:01\r\u001b[K     |███████████████████████████     | 573 kB 5.0 MB/s eta 0:00:01\r\u001b[K     |███████████████████████████▌    | 583 kB 5.0 MB/s eta 0:00:01\r\u001b[K     |████████████████████████████    | 593 kB 5.0 MB/s eta 0:00:01\r\u001b[K     |████████████████████████████▍   | 604 kB 5.0 MB/s eta 0:00:01\r\u001b[K     |█████████████████████████████   | 614 kB 5.0 MB/s eta 0:00:01\r\u001b[K     |█████████████████████████████▍  | 624 kB 5.0 MB/s eta 0:00:01\r\u001b[K     |█████████████████████████████▉  | 634 kB 5.0 MB/s eta 0:00:01\r\u001b[K     |██████████████████████████████▍ | 645 kB 5.0 MB/s eta 0:00:01\r\u001b[K     |██████████████████████████████▉ | 655 kB 5.0 MB/s eta 0:00:01\r\u001b[K     |███████████████████████████████▎| 665 kB 5.0 MB/s eta 0:00:01\r\u001b[K     |███████████████████████████████▉| 675 kB 5.0 MB/s eta 0:00:01\r\u001b[K     |████████████████████████████████| 679 kB 5.0 MB/s \n",
            "\u001b[?25h"
          ],
          "name": "stdout"
        }
      ]
    },
    {
      "cell_type": "code",
      "metadata": {
        "id": "6zfH8jPUsgzl"
      },
      "source": [
        "from tensorflow.keras import layers\n",
        "from tensorflow import keras\n",
        "\n",
        "import matplotlib.pyplot as plt\n",
        "import tensorflow_addons as tfa\n",
        "import tensorflow as tf\n",
        "import numpy as np"
      ],
      "execution_count": 11,
      "outputs": []
    },
    {
      "cell_type": "code",
      "metadata": {
        "id": "nYEa1DQbsivl"
      },
      "source": [
        "positional_emb = True\n",
        "conv_layers = 2\n",
        "projection_dim = 128\n",
        "\n",
        "num_heads = 2\n",
        "transformer_units = [\n",
        "    projection_dim,\n",
        "    projection_dim,\n",
        "]\n",
        "transformer_layers = 2\n",
        "stochastic_depth_rate = 0.1\n",
        "\n",
        "learning_rate = 0.001\n",
        "weight_decay = 0.0001\n",
        "batch_size = 128\n",
        "num_epochs = 30\n",
        "image_size = 32"
      ],
      "execution_count": 12,
      "outputs": []
    },
    {
      "cell_type": "code",
      "metadata": {
        "colab": {
          "base_uri": "https://localhost:8080/"
        },
        "id": "JTz2_GUpslK7",
        "outputId": "dd2074bf-6e3c-4b77-c477-4de1615a1e8c"
      },
      "source": [
        "num_classes = 10\n",
        "input_shape = (32, 32, 3)\n",
        "\n",
        "(x_train, y_train), (x_test, y_test) = keras.datasets.cifar10.load_data()\n",
        "\n",
        "y_train = keras.utils.to_categorical(y_train, num_classes)\n",
        "y_test = keras.utils.to_categorical(y_test, num_classes)\n",
        "\n",
        "print(f\"x_train shape: {x_train.shape} - y_train shape: {y_train.shape}\")\n",
        "print(f\"x_test shape: {x_test.shape} - y_test shape: {y_test.shape}\")"
      ],
      "execution_count": 13,
      "outputs": [
        {
          "output_type": "stream",
          "text": [
            "Downloading data from https://www.cs.toronto.edu/~kriz/cifar-10-python.tar.gz\n",
            "170500096/170498071 [==============================] - 2s 0us/step\n",
            "x_train shape: (50000, 32, 32, 3) - y_train shape: (50000, 10)\n",
            "x_test shape: (10000, 32, 32, 3) - y_test shape: (10000, 10)\n"
          ],
          "name": "stdout"
        }
      ]
    },
    {
      "cell_type": "code",
      "metadata": {
        "id": "EqWTuqq5snnV"
      },
      "source": [
        "class CCTTokenizer(layers.Layer):\n",
        "    def __init__(\n",
        "        self,\n",
        "        kernel_size=3,\n",
        "        stride=1,\n",
        "        padding=1,\n",
        "        pooling_kernel_size=3,\n",
        "        pooling_stride=2,\n",
        "        num_conv_layers=conv_layers,\n",
        "        num_output_channels=[64, 128],\n",
        "        positional_emb=positional_emb,\n",
        "        **kwargs,\n",
        "    ):\n",
        "        super(CCTTokenizer, self).__init__(**kwargs)\n",
        "\n",
        "\n",
        "        self.conv_model = keras.Sequential()\n",
        "        for i in range(num_conv_layers):\n",
        "            self.conv_model.add(\n",
        "                layers.Conv2D(\n",
        "                    num_output_channels[i],\n",
        "                    kernel_size,\n",
        "                    stride,\n",
        "                    padding=\"valid\",\n",
        "                    use_bias=False,\n",
        "                    activation=\"relu\",\n",
        "                    kernel_initializer=\"he_normal\",\n",
        "                )\n",
        "            )\n",
        "            self.conv_model.add(layers.ZeroPadding2D(padding))\n",
        "            self.conv_model.add(\n",
        "                layers.MaxPool2D(pooling_kernel_size, pooling_stride, \"same\")\n",
        "            )\n",
        "\n",
        "        self.positional_emb = positional_emb\n",
        "\n",
        "    def call(self, images):\n",
        "        outputs = self.conv_model(images)\n",
        "\n",
        "        reshaped = tf.reshape(\n",
        "            outputs,\n",
        "            (-1, tf.shape(outputs)[1] * tf.shape(outputs)[2], tf.shape(outputs)[-1]),\n",
        "        )\n",
        "        return reshaped\n",
        "\n",
        "    def positional_embedding(self, image_size):\n",
        "\n",
        "        if self.positional_emb:\n",
        "            dummy_inputs = tf.ones((1, image_size, image_size, 3))\n",
        "            dummy_outputs = self.call(dummy_inputs)\n",
        "            sequence_length = tf.shape(dummy_outputs)[1]\n",
        "            projection_dim = tf.shape(dummy_outputs)[-1]\n",
        "\n",
        "            embed_layer = layers.Embedding(\n",
        "                input_dim=sequence_length, output_dim=projection_dim\n",
        "            )\n",
        "            return embed_layer, sequence_length\n",
        "        else:\n",
        "            return None"
      ],
      "execution_count": 14,
      "outputs": []
    },
    {
      "cell_type": "code",
      "metadata": {
        "id": "9E8pJqn3svgI"
      },
      "source": [
        "class StochasticDepth(layers.Layer):\n",
        "    def __init__(self, drop_prop, **kwargs):\n",
        "        super(StochasticDepth, self).__init__(**kwargs)\n",
        "        self.drop_prob = drop_prop\n",
        "\n",
        "    def call(self, x, training=None):\n",
        "        if training:\n",
        "            keep_prob = 1 - self.drop_prob\n",
        "            shape = (tf.shape(x)[0],) + (1,) * (len(tf.shape(x)) - 1)\n",
        "            random_tensor = keep_prob + tf.random.uniform(shape, 0, 1)\n",
        "            random_tensor = tf.floor(random_tensor)\n",
        "            return (x / keep_prob) * random_tensor\n",
        "        return x"
      ],
      "execution_count": 15,
      "outputs": []
    },
    {
      "cell_type": "code",
      "metadata": {
        "id": "K9DkCQXDsyJW"
      },
      "source": [
        "def mlp(x, hidden_units, dropout_rate):\n",
        "    for units in hidden_units:\n",
        "        x = layers.Dense(units, activation=tf.nn.gelu)(x)\n",
        "        x = layers.Dropout(dropout_rate)(x)\n",
        "    return x"
      ],
      "execution_count": 16,
      "outputs": []
    },
    {
      "cell_type": "code",
      "metadata": {
        "id": "kyYFRT3Is0D1"
      },
      "source": [
        "data_augmentation = keras.Sequential(\n",
        "    [\n",
        "        layers.experimental.preprocessing.Rescaling(scale=1.0 / 255),\n",
        "        layers.experimental.preprocessing.RandomCrop(image_size, image_size),\n",
        "        layers.experimental.preprocessing.RandomFlip(\"horizontal\"),\n",
        "    ],\n",
        "    name=\"data_augmentation\",\n",
        ")"
      ],
      "execution_count": 17,
      "outputs": []
    },
    {
      "cell_type": "code",
      "metadata": {
        "id": "FXh5Hguws2Sz"
      },
      "source": [
        "def create_cct_model(\n",
        "    image_size=image_size,\n",
        "    input_shape=input_shape,\n",
        "    num_heads=num_heads,\n",
        "    projection_dim=projection_dim,\n",
        "    transformer_units=transformer_units,\n",
        "):\n",
        "\n",
        "    inputs = layers.Input(input_shape)\n",
        "\n",
        "\n",
        "    augmented = data_augmentation(inputs)\n",
        "\n",
        "\n",
        "    cct_tokenizer = CCTTokenizer()\n",
        "    encoded_patches = cct_tokenizer(augmented)\n",
        "\n",
        "\n",
        "    if positional_emb:\n",
        "        pos_embed, seq_length = cct_tokenizer.positional_embedding(image_size)\n",
        "        positions = tf.range(start=0, limit=seq_length, delta=1)\n",
        "        position_embeddings = pos_embed(positions)\n",
        "        encoded_patches += position_embeddings\n",
        "\n",
        "\n",
        "    dpr = [x for x in np.linspace(0, stochastic_depth_rate, transformer_layers)]\n",
        "\n",
        "\n",
        "    for i in range(transformer_layers):\n",
        "        # Layer normalization 1.\n",
        "        x1 = layers.LayerNormalization(epsilon=1e-5)(encoded_patches)\n",
        "\n",
        "\n",
        "        attention_output = layers.MultiHeadAttention(\n",
        "            num_heads=num_heads, key_dim=projection_dim, dropout=0.1\n",
        "        )(x1, x1)\n",
        "\n",
        "\n",
        "        attention_output = StochasticDepth(dpr[i])(attention_output)\n",
        "        x2 = layers.Add()([attention_output, encoded_patches])\n",
        "\n",
        "\n",
        "        x3 = layers.LayerNormalization(epsilon=1e-5)(x2)\n",
        "\n",
        "\n",
        "        x3 = mlp(x3, hidden_units=transformer_units, dropout_rate=0.1)\n",
        "\n",
        "\n",
        "        x3 = StochasticDepth(dpr[i])(x3)\n",
        "        encoded_patches = layers.Add()([x3, x2])\n",
        "\n",
        "\n",
        "    representation = layers.LayerNormalization(epsilon=1e-5)(encoded_patches)\n",
        "    attention_weights = tf.nn.softmax(layers.Dense(1)(representation), axis=1)\n",
        "    weighted_representation = tf.matmul(\n",
        "        attention_weights, representation, transpose_a=True\n",
        "    )\n",
        "    weighted_representation = tf.squeeze(weighted_representation, -2)\n",
        "\n",
        "\n",
        "    logits = layers.Dense(num_classes)(weighted_representation)\n",
        "\n",
        "    model = keras.Model(inputs=inputs, outputs=logits)\n",
        "    return model"
      ],
      "execution_count": 18,
      "outputs": []
    },
    {
      "cell_type": "code",
      "metadata": {
        "colab": {
          "base_uri": "https://localhost:8080/"
        },
        "id": "dAFTdLYytAmW",
        "outputId": "26ef1fd6-da9b-4add-8433-1ce93b117542"
      },
      "source": [
        "def run_experiment(model):\n",
        "    optimizer = tfa.optimizers.AdamW(learning_rate=0.001, weight_decay=0.0001)\n",
        "\n",
        "    model.compile(\n",
        "        optimizer=optimizer,\n",
        "        loss=keras.losses.CategoricalCrossentropy(\n",
        "            from_logits=True, label_smoothing=0.1\n",
        "        ),\n",
        "        metrics=[\n",
        "            keras.metrics.CategoricalAccuracy(name=\"accuracy\"),\n",
        "            keras.metrics.TopKCategoricalAccuracy(5, name=\"top-5-accuracy\"),\n",
        "        ],\n",
        "    )\n",
        "\n",
        "    checkpoint_filepath = \"/tmp/checkpoint\"\n",
        "    checkpoint_callback = keras.callbacks.ModelCheckpoint(\n",
        "        checkpoint_filepath,\n",
        "        monitor=\"val_accuracy\",\n",
        "        save_best_only=True,\n",
        "        save_weights_only=True,\n",
        "    )\n",
        "\n",
        "    history = model.fit(\n",
        "        x=x_train,\n",
        "        y=y_train,\n",
        "        batch_size=batch_size,\n",
        "        epochs=num_epochs,\n",
        "        validation_split=0.1,\n",
        "        callbacks=[checkpoint_callback],\n",
        "    )\n",
        "\n",
        "    model.load_weights(checkpoint_filepath)\n",
        "    _, accuracy, top_5_accuracy = model.evaluate(x_test, y_test)\n",
        "    print(f\"Test accuracy: {round(accuracy * 100, 2)}%\")\n",
        "    print(f\"Test top 5 accuracy: {round(top_5_accuracy * 100, 2)}%\")\n",
        "\n",
        "    return history\n",
        "\n",
        "\n",
        "cct_model = create_cct_model()\n",
        "history = run_experiment(cct_model)"
      ],
      "execution_count": 19,
      "outputs": [
        {
          "output_type": "stream",
          "text": [
            "Epoch 1/30\n",
            "352/352 [==============================] - 23s 57ms/step - loss: 1.9069 - accuracy: 0.3371 - top-5-accuracy: 0.8320 - val_loss: 1.6195 - val_accuracy: 0.4824 - val_top-5-accuracy: 0.9224\n",
            "Epoch 2/30\n",
            "352/352 [==============================] - 19s 55ms/step - loss: 1.5569 - accuracy: 0.5085 - top-5-accuracy: 0.9327 - val_loss: 1.4405 - val_accuracy: 0.5670 - val_top-5-accuracy: 0.9548\n",
            "Epoch 3/30\n",
            "352/352 [==============================] - 19s 55ms/step - loss: 1.4312 - accuracy: 0.5747 - top-5-accuracy: 0.9521 - val_loss: 1.3650 - val_accuracy: 0.6048 - val_top-5-accuracy: 0.9636\n",
            "Epoch 4/30\n",
            "352/352 [==============================] - 19s 55ms/step - loss: 1.3491 - accuracy: 0.6137 - top-5-accuracy: 0.9608 - val_loss: 1.3593 - val_accuracy: 0.6024 - val_top-5-accuracy: 0.9642\n",
            "Epoch 5/30\n",
            "352/352 [==============================] - 19s 55ms/step - loss: 1.2940 - accuracy: 0.6389 - top-5-accuracy: 0.9655 - val_loss: 1.3097 - val_accuracy: 0.6250 - val_top-5-accuracy: 0.9652\n",
            "Epoch 6/30\n",
            "352/352 [==============================] - 19s 55ms/step - loss: 1.2525 - accuracy: 0.6613 - top-5-accuracy: 0.9697 - val_loss: 1.2352 - val_accuracy: 0.6676 - val_top-5-accuracy: 0.9698\n",
            "Epoch 7/30\n",
            "352/352 [==============================] - 20s 56ms/step - loss: 1.2111 - accuracy: 0.6800 - top-5-accuracy: 0.9726 - val_loss: 1.2001 - val_accuracy: 0.6830 - val_top-5-accuracy: 0.9726\n",
            "Epoch 8/30\n",
            "352/352 [==============================] - 19s 55ms/step - loss: 1.1853 - accuracy: 0.6924 - top-5-accuracy: 0.9750 - val_loss: 1.1537 - val_accuracy: 0.7106 - val_top-5-accuracy: 0.9784\n",
            "Epoch 9/30\n",
            "352/352 [==============================] - 20s 56ms/step - loss: 1.1567 - accuracy: 0.7076 - top-5-accuracy: 0.9763 - val_loss: 1.1611 - val_accuracy: 0.6994 - val_top-5-accuracy: 0.9798\n",
            "Epoch 10/30\n",
            "352/352 [==============================] - 19s 55ms/step - loss: 1.1408 - accuracy: 0.7132 - top-5-accuracy: 0.9792 - val_loss: 1.1237 - val_accuracy: 0.7180 - val_top-5-accuracy: 0.9796\n",
            "Epoch 11/30\n",
            "352/352 [==============================] - 19s 55ms/step - loss: 1.1219 - accuracy: 0.7198 - top-5-accuracy: 0.9805 - val_loss: 1.1219 - val_accuracy: 0.7216 - val_top-5-accuracy: 0.9770\n",
            "Epoch 12/30\n",
            "352/352 [==============================] - 20s 56ms/step - loss: 1.0958 - accuracy: 0.7349 - top-5-accuracy: 0.9815 - val_loss: 1.1040 - val_accuracy: 0.7320 - val_top-5-accuracy: 0.9822\n",
            "Epoch 13/30\n",
            "352/352 [==============================] - 19s 55ms/step - loss: 1.0736 - accuracy: 0.7444 - top-5-accuracy: 0.9840 - val_loss: 1.0701 - val_accuracy: 0.7458 - val_top-5-accuracy: 0.9808\n",
            "Epoch 14/30\n",
            "352/352 [==============================] - 19s 55ms/step - loss: 1.0654 - accuracy: 0.7488 - top-5-accuracy: 0.9836 - val_loss: 1.0890 - val_accuracy: 0.7358 - val_top-5-accuracy: 0.9826\n",
            "Epoch 15/30\n",
            "352/352 [==============================] - 19s 55ms/step - loss: 1.0502 - accuracy: 0.7561 - top-5-accuracy: 0.9842 - val_loss: 1.0448 - val_accuracy: 0.7560 - val_top-5-accuracy: 0.9858\n",
            "Epoch 16/30\n",
            "352/352 [==============================] - 20s 56ms/step - loss: 1.0374 - accuracy: 0.7607 - top-5-accuracy: 0.9853 - val_loss: 1.0596 - val_accuracy: 0.7492 - val_top-5-accuracy: 0.9846\n",
            "Epoch 17/30\n",
            "352/352 [==============================] - 19s 55ms/step - loss: 1.0285 - accuracy: 0.7646 - top-5-accuracy: 0.9850 - val_loss: 1.1055 - val_accuracy: 0.7270 - val_top-5-accuracy: 0.9802\n",
            "Epoch 18/30\n",
            "352/352 [==============================] - 19s 55ms/step - loss: 1.0127 - accuracy: 0.7719 - top-5-accuracy: 0.9870 - val_loss: 1.0639 - val_accuracy: 0.7508 - val_top-5-accuracy: 0.9846\n",
            "Epoch 19/30\n",
            "352/352 [==============================] - 19s 55ms/step - loss: 1.0040 - accuracy: 0.7748 - top-5-accuracy: 0.9872 - val_loss: 1.0391 - val_accuracy: 0.7564 - val_top-5-accuracy: 0.9836\n",
            "Epoch 20/30\n",
            "352/352 [==============================] - 19s 55ms/step - loss: 0.9942 - accuracy: 0.7816 - top-5-accuracy: 0.9872 - val_loss: 1.0526 - val_accuracy: 0.7578 - val_top-5-accuracy: 0.9840\n",
            "Epoch 21/30\n",
            "352/352 [==============================] - 19s 55ms/step - loss: 0.9900 - accuracy: 0.7832 - top-5-accuracy: 0.9870 - val_loss: 1.0283 - val_accuracy: 0.7700 - val_top-5-accuracy: 0.9854\n",
            "Epoch 22/30\n",
            "352/352 [==============================] - 20s 55ms/step - loss: 0.9801 - accuracy: 0.7880 - top-5-accuracy: 0.9885 - val_loss: 1.0189 - val_accuracy: 0.7746 - val_top-5-accuracy: 0.9838\n",
            "Epoch 23/30\n",
            "352/352 [==============================] - 19s 55ms/step - loss: 0.9732 - accuracy: 0.7906 - top-5-accuracy: 0.9892 - val_loss: 1.0541 - val_accuracy: 0.7634 - val_top-5-accuracy: 0.9852\n",
            "Epoch 24/30\n",
            "352/352 [==============================] - 20s 56ms/step - loss: 0.9709 - accuracy: 0.7912 - top-5-accuracy: 0.9887 - val_loss: 1.0292 - val_accuracy: 0.7688 - val_top-5-accuracy: 0.9850\n",
            "Epoch 25/30\n",
            "352/352 [==============================] - 19s 55ms/step - loss: 0.9597 - accuracy: 0.7964 - top-5-accuracy: 0.9892 - val_loss: 1.0242 - val_accuracy: 0.7730 - val_top-5-accuracy: 0.9838\n",
            "Epoch 26/30\n",
            "352/352 [==============================] - 19s 55ms/step - loss: 0.9601 - accuracy: 0.7958 - top-5-accuracy: 0.9896 - val_loss: 1.0029 - val_accuracy: 0.7794 - val_top-5-accuracy: 0.9872\n",
            "Epoch 27/30\n",
            "352/352 [==============================] - 20s 55ms/step - loss: 0.9442 - accuracy: 0.8040 - top-5-accuracy: 0.9897 - val_loss: 0.9887 - val_accuracy: 0.7904 - val_top-5-accuracy: 0.9880\n",
            "Epoch 28/30\n",
            "352/352 [==============================] - 19s 55ms/step - loss: 0.9396 - accuracy: 0.8063 - top-5-accuracy: 0.9906 - val_loss: 0.9871 - val_accuracy: 0.7846 - val_top-5-accuracy: 0.9882\n",
            "Epoch 29/30\n",
            "352/352 [==============================] - 19s 55ms/step - loss: 0.9319 - accuracy: 0.8099 - top-5-accuracy: 0.9907 - val_loss: 0.9853 - val_accuracy: 0.7920 - val_top-5-accuracy: 0.9852\n",
            "Epoch 30/30\n",
            "352/352 [==============================] - 20s 55ms/step - loss: 0.9309 - accuracy: 0.8102 - top-5-accuracy: 0.9905 - val_loss: 1.0100 - val_accuracy: 0.7780 - val_top-5-accuracy: 0.9858\n",
            "313/313 [==============================] - 3s 9ms/step - loss: 1.0250 - accuracy: 0.7789 - top-5-accuracy: 0.9822\n",
            "Test accuracy: 77.89%\n",
            "Test top 5 accuracy: 98.22%\n"
          ],
          "name": "stdout"
        }
      ]
    },
    {
      "cell_type": "code",
      "metadata": {
        "colab": {
          "base_uri": "https://localhost:8080/",
          "height": 296
        },
        "id": "UFrkepsAtDc2",
        "outputId": "5fb79d0f-6212-4a64-9394-4bce2f6cc667"
      },
      "source": [
        "plt.plot(history.history[\"loss\"], label=\"train_loss\")\n",
        "plt.plot(history.history[\"val_loss\"], label=\"val_loss\")\n",
        "plt.xlabel(\"Epochs\")\n",
        "plt.ylabel(\"Loss\")\n",
        "plt.title(\"Train and Validation Losses Over Epochs\", fontsize=14)\n",
        "plt.legend()\n",
        "plt.grid()\n",
        "plt.show()"
      ],
      "execution_count": 20,
      "outputs": [
        {
          "output_type": "display_data",
          "data": {
            "image/png": "[encoded data removed]",
            "text/plain": [
              "<Figure size 432x288 with 1 Axes>"
            ]
          },
          "metadata": {
            "tags": [],
            "needs_background": "light"
          }
        }
      ]
    }
  ]
}