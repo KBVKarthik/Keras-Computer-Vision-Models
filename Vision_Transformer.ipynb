{
  "nbformat": 4,
  "nbformat_minor": 0,
  "metadata": {
    "colab": {
      "name": "Vision Transformer.ipynb",
      "provenance": [],
      "authorship_tag": "ABX9TyOmh20pRMKijMrTfFVAstq8",
      "include_colab_link": true
    },
    "kernelspec": {
      "name": "python3",
      "display_name": "Python 3"
    },
    "language_info": {
      "name": "python"
    },
    "accelerator": "GPU"
  },
  "cells": [
    {
      "cell_type": "markdown",
      "metadata": {
        "id": "view-in-github",
        "colab_type": "text"
      },
      "source": [
        "<a href=\"https://colab.research.google.com/github/KBVKarthik/Keras-Computer-Vision-Models/blob/main/Vision_Transformer.ipynb\" target=\"_parent\"><img src=\"https://colab.research.google.com/assets/colab-badge.svg\" alt=\"Open In Colab\"/></a>"
      ]
    },
    {
      "cell_type": "code",
      "metadata": {
        "colab": {
          "base_uri": "https://localhost:8080/"
        },
        "id": "uXbpb8Z3MISy",
        "outputId": "094d50eb-2c0a-4cc0-b1af-d81f7e489d16"
      },
      "source": [
        "!pip install -U tensorflow-addons"
      ],
      "execution_count": 12,
      "outputs": [
        {
          "output_type": "stream",
          "text": [
            "Collecting tensorflow-addons\n",
            "  Downloading tensorflow_addons-0.13.0-cp37-cp37m-manylinux2010_x86_64.whl (679 kB)\n",
            "\u001b[?25l\r\u001b[K     |▌                               | 10 kB 27.0 MB/s eta 0:00:01\r\u001b[K     |█                               | 20 kB 17.8 MB/s eta 0:00:01\r\u001b[K     |█▌                              | 30 kB 10.4 MB/s eta 0:00:01\r\u001b[K     |██                              | 40 kB 8.1 MB/s eta 0:00:01\r\u001b[K     |██▍                             | 51 kB 4.7 MB/s eta 0:00:01\r\u001b[K     |███                             | 61 kB 5.1 MB/s eta 0:00:01\r\u001b[K     |███▍                            | 71 kB 5.2 MB/s eta 0:00:01\r\u001b[K     |███▉                            | 81 kB 5.8 MB/s eta 0:00:01\r\u001b[K     |████▍                           | 92 kB 4.5 MB/s eta 0:00:01\r\u001b[K     |████▉                           | 102 kB 4.9 MB/s eta 0:00:01\r\u001b[K     |█████▎                          | 112 kB 4.9 MB/s eta 0:00:01\r\u001b[K     |█████▉                          | 122 kB 4.9 MB/s eta 0:00:01\r\u001b[K     |██████▎                         | 133 kB 4.9 MB/s eta 0:00:01\r\u001b[K     |██████▊                         | 143 kB 4.9 MB/s eta 0:00:01\r\u001b[K     |███████▎                        | 153 kB 4.9 MB/s eta 0:00:01\r\u001b[K     |███████▊                        | 163 kB 4.9 MB/s eta 0:00:01\r\u001b[K     |████████▏                       | 174 kB 4.9 MB/s eta 0:00:01\r\u001b[K     |████████▊                       | 184 kB 4.9 MB/s eta 0:00:01\r\u001b[K     |█████████▏                      | 194 kB 4.9 MB/s eta 0:00:01\r\u001b[K     |█████████▋                      | 204 kB 4.9 MB/s eta 0:00:01\r\u001b[K     |██████████▏                     | 215 kB 4.9 MB/s eta 0:00:01\r\u001b[K     |██████████▋                     | 225 kB 4.9 MB/s eta 0:00:01\r\u001b[K     |███████████                     | 235 kB 4.9 MB/s eta 0:00:01\r\u001b[K     |███████████▋                    | 245 kB 4.9 MB/s eta 0:00:01\r\u001b[K     |████████████                    | 256 kB 4.9 MB/s eta 0:00:01\r\u001b[K     |████████████▌                   | 266 kB 4.9 MB/s eta 0:00:01\r\u001b[K     |█████████████                   | 276 kB 4.9 MB/s eta 0:00:01\r\u001b[K     |█████████████▌                  | 286 kB 4.9 MB/s eta 0:00:01\r\u001b[K     |██████████████                  | 296 kB 4.9 MB/s eta 0:00:01\r\u001b[K     |██████████████▌                 | 307 kB 4.9 MB/s eta 0:00:01\r\u001b[K     |███████████████                 | 317 kB 4.9 MB/s eta 0:00:01\r\u001b[K     |███████████████▍                | 327 kB 4.9 MB/s eta 0:00:01\r\u001b[K     |████████████████                | 337 kB 4.9 MB/s eta 0:00:01\r\u001b[K     |████████████████▍               | 348 kB 4.9 MB/s eta 0:00:01\r\u001b[K     |████████████████▉               | 358 kB 4.9 MB/s eta 0:00:01\r\u001b[K     |█████████████████▍              | 368 kB 4.9 MB/s eta 0:00:01\r\u001b[K     |█████████████████▉              | 378 kB 4.9 MB/s eta 0:00:01\r\u001b[K     |██████████████████▎             | 389 kB 4.9 MB/s eta 0:00:01\r\u001b[K     |██████████████████▉             | 399 kB 4.9 MB/s eta 0:00:01\r\u001b[K     |███████████████████▎            | 409 kB 4.9 MB/s eta 0:00:01\r\u001b[K     |███████████████████▊            | 419 kB 4.9 MB/s eta 0:00:01\r\u001b[K     |████████████████████▎           | 430 kB 4.9 MB/s eta 0:00:01\r\u001b[K     |████████████████████▊           | 440 kB 4.9 MB/s eta 0:00:01\r\u001b[K     |█████████████████████▏          | 450 kB 4.9 MB/s eta 0:00:01\r\u001b[K     |█████████████████████▊          | 460 kB 4.9 MB/s eta 0:00:01\r\u001b[K     |██████████████████████▏         | 471 kB 4.9 MB/s eta 0:00:01\r\u001b[K     |██████████████████████▋         | 481 kB 4.9 MB/s eta 0:00:01\r\u001b[K     |███████████████████████▏        | 491 kB 4.9 MB/s eta 0:00:01\r\u001b[K     |███████████████████████▋        | 501 kB 4.9 MB/s eta 0:00:01\r\u001b[K     |████████████████████████        | 512 kB 4.9 MB/s eta 0:00:01\r\u001b[K     |████████████████████████▋       | 522 kB 4.9 MB/s eta 0:00:01\r\u001b[K     |█████████████████████████       | 532 kB 4.9 MB/s eta 0:00:01\r\u001b[K     |█████████████████████████▌      | 542 kB 4.9 MB/s eta 0:00:01\r\u001b[K     |██████████████████████████      | 552 kB 4.9 MB/s eta 0:00:01\r\u001b[K     |██████████████████████████▌     | 563 kB 4.9 MB/s eta 0:00:01\r\u001b[K     |███████████████████████████     | 573 kB 4.9 MB/s eta 0:00:01\r\u001b[K     |███████████████████████████▌    | 583 kB 4.9 MB/s eta 0:00:01\r\u001b[K     |████████████████████████████    | 593 kB 4.9 MB/s eta 0:00:01\r\u001b[K     |████████████████████████████▍   | 604 kB 4.9 MB/s eta 0:00:01\r\u001b[K     |█████████████████████████████   | 614 kB 4.9 MB/s eta 0:00:01\r\u001b[K     |█████████████████████████████▍  | 624 kB 4.9 MB/s eta 0:00:01\r\u001b[K     |█████████████████████████████▉  | 634 kB 4.9 MB/s eta 0:00:01\r\u001b[K     |██████████████████████████████▍ | 645 kB 4.9 MB/s eta 0:00:01\r\u001b[K     |██████████████████████████████▉ | 655 kB 4.9 MB/s eta 0:00:01\r\u001b[K     |███████████████████████████████▎| 665 kB 4.9 MB/s eta 0:00:01\r\u001b[K     |███████████████████████████████▉| 675 kB 4.9 MB/s eta 0:00:01\r\u001b[K     |████████████████████████████████| 679 kB 4.9 MB/s \n",
            "\u001b[?25hRequirement already satisfied: typeguard>=2.7 in /usr/local/lib/python3.7/dist-packages (from tensorflow-addons) (2.7.1)\n",
            "Installing collected packages: tensorflow-addons\n",
            "Successfully installed tensorflow-addons-0.13.0\n"
          ],
          "name": "stdout"
        }
      ]
    },
    {
      "cell_type": "code",
      "metadata": {
        "id": "HFG4ySz8MAwR"
      },
      "source": [
        "import numpy as np\n",
        "import tensorflow as tf\n",
        "from tensorflow import keras\n",
        "from tensorflow.keras import layers\n",
        "import tensorflow_addons as tfa"
      ],
      "execution_count": 13,
      "outputs": []
    },
    {
      "cell_type": "code",
      "metadata": {
        "colab": {
          "base_uri": "https://localhost:8080/"
        },
        "id": "x4mLQQXTMESw",
        "outputId": "cef44f40-4ab0-49c2-c068-392516dd347a"
      },
      "source": [
        "num_classes = 100\n",
        "input_shape = (32, 32, 3)\n",
        "\n",
        "(x_train, y_train), (x_test, y_test) = keras.datasets.cifar100.load_data()\n",
        "\n",
        "print(f\"x_train shape: {x_train.shape} - y_train shape: {y_train.shape}\")\n",
        "print(f\"x_test shape: {x_test.shape} - y_test shape: {y_test.shape}\")"
      ],
      "execution_count": 14,
      "outputs": [
        {
          "output_type": "stream",
          "text": [
            "Downloading data from https://www.cs.toronto.edu/~kriz/cifar-100-python.tar.gz\n",
            "169009152/169001437 [==============================] - 2s 0us/step\n",
            "x_train shape: (50000, 32, 32, 3) - y_train shape: (50000, 1)\n",
            "x_test shape: (10000, 32, 32, 3) - y_test shape: (10000, 1)\n"
          ],
          "name": "stdout"
        }
      ]
    },
    {
      "cell_type": "code",
      "metadata": {
        "id": "qVZtnXSvMPkN"
      },
      "source": [
        "learning_rate = 0.001\n",
        "weight_decay = 0.0001\n",
        "batch_size = 256\n",
        "num_epochs = 100\n",
        "image_size = 72  \n",
        "patch_size = 6  \n",
        "num_patches = (image_size // patch_size) ** 2\n",
        "projection_dim = 64\n",
        "num_heads = 4\n",
        "transformer_units = [\n",
        "    projection_dim * 2,\n",
        "    projection_dim,\n",
        "]  \n",
        "transformer_layers = 8\n",
        "mlp_head_units = [2048, 1024] "
      ],
      "execution_count": 15,
      "outputs": []
    },
    {
      "cell_type": "code",
      "metadata": {
        "id": "qb8SrATMMUlK"
      },
      "source": [
        "data_augmentation = keras.Sequential(\n",
        "    [\n",
        "        layers.experimental.preprocessing.Normalization(),\n",
        "        layers.experimental.preprocessing.Resizing(image_size, image_size),\n",
        "        layers.experimental.preprocessing.RandomFlip(\"horizontal\"),\n",
        "        layers.experimental.preprocessing.RandomRotation(factor=0.02),\n",
        "        layers.experimental.preprocessing.RandomZoom(\n",
        "            height_factor=0.2, width_factor=0.2\n",
        "        ),\n",
        "    ],\n",
        "    name=\"data_augmentation\",\n",
        ")\n",
        "\n",
        "data_augmentation.layers[0].adapt(x_train)\n"
      ],
      "execution_count": 16,
      "outputs": []
    },
    {
      "cell_type": "code",
      "metadata": {
        "id": "YnkTnvm4MXUK"
      },
      "source": [
        "\n",
        "def mlp(x, hidden_units, dropout_rate):\n",
        "    for units in hidden_units:\n",
        "        x = layers.Dense(units, activation=tf.nn.gelu)(x)\n",
        "        x = layers.Dropout(dropout_rate)(x)\n",
        "    return x"
      ],
      "execution_count": 17,
      "outputs": []
    },
    {
      "cell_type": "code",
      "metadata": {
        "id": "ri-QxwN_MZPc"
      },
      "source": [
        "class Patches(layers.Layer):\n",
        "    def __init__(self, patch_size):\n",
        "        super(Patches, self).__init__()\n",
        "        self.patch_size = patch_size\n",
        "\n",
        "    def call(self, images):\n",
        "        batch_size = tf.shape(images)[0]\n",
        "        patches = tf.image.extract_patches(\n",
        "            images=images,\n",
        "            sizes=[1, self.patch_size, self.patch_size, 1],\n",
        "            strides=[1, self.patch_size, self.patch_size, 1],\n",
        "            rates=[1, 1, 1, 1],\n",
        "            padding=\"VALID\",\n",
        "        )\n",
        "        patch_dims = patches.shape[-1]\n",
        "        patches = tf.reshape(patches, [batch_size, -1, patch_dims])\n",
        "        return patches\n"
      ],
      "execution_count": 18,
      "outputs": []
    },
    {
      "cell_type": "code",
      "metadata": {
        "colab": {
          "base_uri": "https://localhost:8080/",
          "height": 550
        },
        "id": "ahzE6G0kMbO8",
        "outputId": "a212bc78-9819-490c-a543-8ceee0e90edf"
      },
      "source": [
        "import matplotlib.pyplot as plt\n",
        "\n",
        "plt.figure(figsize=(4, 4))\n",
        "image = x_train[np.random.choice(range(x_train.shape[0]))]\n",
        "plt.imshow(image.astype(\"uint8\"))\n",
        "plt.axis(\"off\")\n",
        "\n",
        "resized_image = tf.image.resize(\n",
        "    tf.convert_to_tensor([image]), size=(image_size, image_size)\n",
        ")\n",
        "patches = Patches(patch_size)(resized_image)\n",
        "print(f\"Image size: {image_size} X {image_size}\")\n",
        "print(f\"Patch size: {patch_size} X {patch_size}\")\n",
        "print(f\"Patches per image: {patches.shape[1]}\")\n",
        "print(f\"Elements per patch: {patches.shape[-1]}\")\n",
        "\n",
        "n = int(np.sqrt(patches.shape[1]))\n",
        "plt.figure(figsize=(4, 4))\n",
        "for i, patch in enumerate(patches[0]):\n",
        "    ax = plt.subplot(n, n, i + 1)\n",
        "    patch_img = tf.reshape(patch, (patch_size, patch_size, 3))\n",
        "    plt.imshow(patch_img.numpy().astype(\"uint8\"))\n",
        "    plt.axis(\"off\")"
      ],
      "execution_count": 19,
      "outputs": [
        {
          "output_type": "stream",
          "text": [
            "Image size: 72 X 72\n",
            "Patch size: 6 X 6\n",
            "Patches per image: 144\n",
            "Elements per patch: 108\n"
          ],
          "name": "stdout"
        },
        {
          "output_type": "display_data",
          "data": {
            "image/png": "[encoded data removed]",
            "text/plain": [
              "<Figure size 288x288 with 1 Axes>"
            ]
          },
          "metadata": {
            "tags": [],
            "needs_background": "light"
          }
        },
        {
          "output_type": "display_data",
          "data": {
            "image/png": "[encoded data removed]",
            "text/plain": [
              "<Figure size 288x288 with 144 Axes>"
            ]
          },
          "metadata": {
            "tags": [],
            "needs_background": "light"
          }
        }
      ]
    },
    {
      "cell_type": "code",
      "metadata": {
        "id": "qFpbUtiwMdlw"
      },
      "source": [
        "class PatchEncoder(layers.Layer):\n",
        "    def __init__(self, num_patches, projection_dim):\n",
        "        super(PatchEncoder, self).__init__()\n",
        "        self.num_patches = num_patches\n",
        "        self.projection = layers.Dense(units=projection_dim)\n",
        "        self.position_embedding = layers.Embedding(\n",
        "            input_dim=num_patches, output_dim=projection_dim\n",
        "        )\n",
        "\n",
        "    def call(self, patch):\n",
        "        positions = tf.range(start=0, limit=self.num_patches, delta=1)\n",
        "        encoded = self.projection(patch) + self.position_embedding(positions)\n",
        "        return encoded"
      ],
      "execution_count": 20,
      "outputs": []
    },
    {
      "cell_type": "code",
      "metadata": {
        "id": "5mgPlGqjMgmz"
      },
      "source": [
        "def create_vit_classifier():\n",
        "    inputs = layers.Input(shape=input_shape)\n",
        "\n",
        "    augmented = data_augmentation(inputs)\n",
        "\n",
        "    patches = Patches(patch_size)(augmented)\n",
        "\n",
        "    encoded_patches = PatchEncoder(num_patches, projection_dim)(patches)\n",
        "\n",
        "\n",
        "    for _ in range(transformer_layers):\n",
        "\n",
        "        x1 = layers.LayerNormalization(epsilon=1e-6)(encoded_patches)\n",
        "\n",
        "        attention_output = layers.MultiHeadAttention(\n",
        "            num_heads=num_heads, key_dim=projection_dim, dropout=0.1\n",
        "        )(x1, x1)\n",
        "\n",
        "        x2 = layers.Add()([attention_output, encoded_patches])\n",
        "\n",
        "        x3 = layers.LayerNormalization(epsilon=1e-6)(x2)\n",
        "\n",
        "        x3 = mlp(x3, hidden_units=transformer_units, dropout_rate=0.1)\n",
        "\n",
        "        encoded_patches = layers.Add()([x3, x2])\n",
        "\n",
        "\n",
        "    representation = layers.LayerNormalization(epsilon=1e-6)(encoded_patches)\n",
        "    representation = layers.Flatten()(representation)\n",
        "    representation = layers.Dropout(0.5)(representation)\n",
        "\n",
        "    features = mlp(representation, hidden_units=mlp_head_units, dropout_rate=0.5)\n",
        "\n",
        "    logits = layers.Dense(num_classes)(features)\n",
        "\n",
        "    model = keras.Model(inputs=inputs, outputs=logits)\n",
        "    return model\n"
      ],
      "execution_count": 21,
      "outputs": []
    },
    {
      "cell_type": "code",
      "metadata": {
        "colab": {
          "base_uri": "https://localhost:8080/"
        },
        "id": "yOd3yyhhMrei",
        "outputId": "ae8f3a1c-4ece-451c-e2ed-8be07612cf88"
      },
      "source": [
        "def run_experiment(model):\n",
        "    optimizer = tfa.optimizers.AdamW(\n",
        "        learning_rate=learning_rate, weight_decay=weight_decay\n",
        "    )\n",
        "\n",
        "    model.compile(\n",
        "        optimizer=optimizer,\n",
        "        loss=keras.losses.SparseCategoricalCrossentropy(from_logits=True),\n",
        "        metrics=[\n",
        "            keras.metrics.SparseCategoricalAccuracy(name=\"accuracy\"),\n",
        "            keras.metrics.SparseTopKCategoricalAccuracy(5, name=\"top-5-accuracy\"),\n",
        "        ],\n",
        "    )\n",
        "\n",
        "    checkpoint_filepath = \"/tmp/checkpoint\"\n",
        "    checkpoint_callback = keras.callbacks.ModelCheckpoint(\n",
        "        checkpoint_filepath,\n",
        "        monitor=\"val_accuracy\",\n",
        "        save_best_only=True,\n",
        "        save_weights_only=True,\n",
        "    )\n",
        "\n",
        "    history = model.fit(\n",
        "        x=x_train,\n",
        "        y=y_train,\n",
        "        batch_size=batch_size,\n",
        "        epochs=5,\n",
        "        validation_split=0.1,\n",
        "        callbacks=[checkpoint_callback],\n",
        "    )\n",
        "\n",
        "    model.load_weights(checkpoint_filepath)\n",
        "    _, accuracy, top_5_accuracy = model.evaluate(x_test, y_test)\n",
        "    print(f\"Test accuracy: {round(accuracy * 100, 2)}%\")\n",
        "    print(f\"Test top 5 accuracy: {round(top_5_accuracy * 100, 2)}%\")\n",
        "\n",
        "    return history\n",
        "\n",
        "\n",
        "vit_classifier = create_vit_classifier()\n",
        "history = run_experiment(vit_classifier)"
      ],
      "execution_count": 23,
      "outputs": [
        {
          "output_type": "stream",
          "text": [
            "Epoch 1/5\n",
            "176/176 [==============================] - 161s 844ms/step - loss: 4.4513 - accuracy: 0.0513 - top-5-accuracy: 0.1719 - val_loss: 3.9606 - val_accuracy: 0.1010 - val_top-5-accuracy: 0.3074\n",
            "Epoch 2/5\n",
            "176/176 [==============================] - 147s 834ms/step - loss: 3.9230 - accuracy: 0.0982 - top-5-accuracy: 0.2994 - val_loss: 3.5463 - val_accuracy: 0.1636 - val_top-5-accuracy: 0.4222\n",
            "Epoch 3/5\n",
            "176/176 [==============================] - 147s 834ms/step - loss: 3.6629 - accuracy: 0.1364 - top-5-accuracy: 0.3772 - val_loss: 3.3124 - val_accuracy: 0.2088 - val_top-5-accuracy: 0.4844\n",
            "Epoch 4/5\n",
            "176/176 [==============================] - 147s 834ms/step - loss: 3.4924 - accuracy: 0.1660 - top-5-accuracy: 0.4260 - val_loss: 3.1393 - val_accuracy: 0.2324 - val_top-5-accuracy: 0.5266\n",
            "Epoch 5/5\n",
            "176/176 [==============================] - 147s 834ms/step - loss: 3.3408 - accuracy: 0.1925 - top-5-accuracy: 0.4656 - val_loss: 3.0168 - val_accuracy: 0.2564 - val_top-5-accuracy: 0.5580\n",
            "313/313 [==============================] - 15s 48ms/step - loss: 2.9814 - accuracy: 0.2630 - top-5-accuracy: 0.5643\n",
            "Test accuracy: 26.3%\n",
            "Test top 5 accuracy: 56.43%\n"
          ],
          "name": "stdout"
        }
      ]
    }
  ]
}