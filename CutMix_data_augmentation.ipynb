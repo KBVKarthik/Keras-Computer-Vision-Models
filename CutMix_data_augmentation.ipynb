{
  "nbformat": 4,
  "nbformat_minor": 0,
  "metadata": {
    "colab": {
      "name": "CutMix data augmentation.ipynb",
      "provenance": [],
      "authorship_tag": "ABX9TyNriq9hXVFAQq48asLAwDho",
      "include_colab_link": true
    },
    "kernelspec": {
      "name": "python3",
      "display_name": "Python 3"
    },
    "language_info": {
      "name": "python"
    },
    "accelerator": "GPU"
  },
  "cells": [
    {
      "cell_type": "markdown",
      "metadata": {
        "id": "view-in-github",
        "colab_type": "text"
      },
      "source": [
        "<a href=\"https://colab.research.google.com/github/KBVKarthik/Keras-Computer-Vision-Models/blob/main/CutMix_data_augmentation.ipynb\" target=\"_parent\"><img src=\"https://colab.research.google.com/assets/colab-badge.svg\" alt=\"Open In Colab\"/></a>"
      ]
    },
    {
      "cell_type": "code",
      "metadata": {
        "id": "OLzrOh3C5_ti"
      },
      "source": [
        "import numpy as np\n",
        "import pandas as pd\n",
        "import matplotlib.pyplot as plt\n",
        "import tensorflow as tf\n",
        "from tensorflow import keras\n",
        "\n",
        "np.random.seed(42)\n",
        "tf.random.set_seed(42)"
      ],
      "execution_count": 37,
      "outputs": []
    },
    {
      "cell_type": "code",
      "metadata": {
        "colab": {
          "base_uri": "https://localhost:8080/"
        },
        "id": "TBxXF6Dd6LmY",
        "outputId": "f72b0339-590a-4425-c6f9-6cb4c4da4ce9"
      },
      "source": [
        "(x_train, y_train), (x_test, y_test) = tf.keras.datasets.cifar10.load_data()\n",
        "y_train = tf.keras.utils.to_categorical(y_train, num_classes=10)\n",
        "y_test = tf.keras.utils.to_categorical(y_test, num_classes=10)\n",
        "\n",
        "print(x_train.shape)\n",
        "print(y_train.shape)\n",
        "print(x_test.shape)\n",
        "print(y_test.shape)\n",
        "\n",
        "class_names = [\n",
        "    \"Airplane\",\n",
        "    \"Automobile\",\n",
        "    \"Bird\",\n",
        "    \"Cat\",\n",
        "    \"Deer\",\n",
        "    \"Dog\",\n",
        "    \"Frog\",\n",
        "    \"Horse\",\n",
        "    \"Ship\",\n",
        "    \"Truck\",\n",
        "]"
      ],
      "execution_count": 38,
      "outputs": [
        {
          "output_type": "stream",
          "text": [
            "(50000, 32, 32, 3)\n",
            "(50000, 10)\n",
            "(10000, 32, 32, 3)\n",
            "(10000, 10)\n"
          ],
          "name": "stdout"
        }
      ]
    },
    {
      "cell_type": "code",
      "metadata": {
        "id": "3AS_LlAU6N7-"
      },
      "source": [
        "AUTO = tf.data.experimental.AUTOTUNE\n",
        "BATCH_SIZE = 32\n",
        "IMG_SIZE = 32"
      ],
      "execution_count": 39,
      "outputs": []
    },
    {
      "cell_type": "code",
      "metadata": {
        "id": "sp_UK4Pm6Sjz"
      },
      "source": [
        "def preprocess_image(image, label):\n",
        "    image = tf.image.resize(image, (IMG_SIZE, IMG_SIZE))\n",
        "    image = tf.image.convert_image_dtype(image, tf.float32) / 255.0\n",
        "    return image, label\n"
      ],
      "execution_count": 40,
      "outputs": []
    },
    {
      "cell_type": "code",
      "metadata": {
        "id": "qr3sb7Bf6TRA"
      },
      "source": [
        "train_ds_one = (\n",
        "    tf.data.Dataset.from_tensor_slices((x_train, y_train))\n",
        "    .shuffle(1024)\n",
        "    .map(preprocess_image, num_parallel_calls=AUTO)\n",
        ")\n",
        "train_ds_two = (\n",
        "    tf.data.Dataset.from_tensor_slices((x_train, y_train))\n",
        "    .shuffle(1024)\n",
        "    .map(preprocess_image, num_parallel_calls=AUTO)\n",
        ")\n",
        "\n",
        "train_ds_simple = tf.data.Dataset.from_tensor_slices((x_train, y_train))\n",
        "\n",
        "test_ds = tf.data.Dataset.from_tensor_slices((x_test, y_test))\n",
        "\n",
        "train_ds_simple = (\n",
        "    train_ds_simple.map(preprocess_image, num_parallel_calls=AUTO)\n",
        "    .batch(BATCH_SIZE)\n",
        "    .prefetch(AUTO)\n",
        ")\n",
        "\n",
        "\n",
        "train_ds = tf.data.Dataset.zip((train_ds_one, train_ds_two))\n",
        "\n",
        "test_ds = (\n",
        "    test_ds.map(preprocess_image, num_parallel_calls=AUTO)\n",
        "    .batch(BATCH_SIZE)\n",
        "    .prefetch(AUTO)\n",
        ")"
      ],
      "execution_count": 41,
      "outputs": []
    },
    {
      "cell_type": "code",
      "metadata": {
        "id": "PB7k02zd6Wmg"
      },
      "source": [
        "def sample_beta_distribution(size, concentration_0=0.2, concentration_1=0.2):\n",
        "    gamma_1_sample = tf.random.gamma(shape=[size], alpha=concentration_1)\n",
        "    gamma_2_sample = tf.random.gamma(shape=[size], alpha=concentration_0)\n",
        "    return gamma_1_sample / (gamma_1_sample + gamma_2_sample)\n",
        "\n",
        "\n",
        "@tf.function\n",
        "def get_box(lambda_value):\n",
        "    cut_rat = tf.math.sqrt(1.0 - lambda_value)\n",
        "\n",
        "    cut_w = IMG_SIZE * cut_rat  # rw\n",
        "    cut_w = tf.cast(cut_w, tf.int32)\n",
        "\n",
        "    cut_h = IMG_SIZE * cut_rat  # rh\n",
        "    cut_h = tf.cast(cut_h, tf.int32)\n",
        "\n",
        "    cut_x = tf.random.uniform((1,), minval=0, maxval=IMG_SIZE, dtype=tf.int32)  # rx\n",
        "    cut_y = tf.random.uniform((1,), minval=0, maxval=IMG_SIZE, dtype=tf.int32)  # ry\n",
        "\n",
        "    boundaryx1 = tf.clip_by_value(cut_x[0] - cut_w // 2, 0, IMG_SIZE)\n",
        "    boundaryy1 = tf.clip_by_value(cut_y[0] - cut_h // 2, 0, IMG_SIZE)\n",
        "    bbx2 = tf.clip_by_value(cut_x[0] + cut_w // 2, 0, IMG_SIZE)\n",
        "    bby2 = tf.clip_by_value(cut_y[0] + cut_h // 2, 0, IMG_SIZE)\n",
        "\n",
        "    target_h = bby2 - boundaryy1\n",
        "    if target_h == 0:\n",
        "        target_h += 1\n",
        "\n",
        "    target_w = bbx2 - boundaryx1\n",
        "    if target_w == 0:\n",
        "        target_w += 1\n",
        "\n",
        "    return boundaryx1, boundaryy1, target_h, target_w\n",
        "\n",
        "\n",
        "@tf.function\n",
        "def cutmix(train_ds_one, train_ds_two):\n",
        "    (image1, label1), (image2, label2) = train_ds_one, train_ds_two\n",
        "\n",
        "    alpha = [0.25]\n",
        "    beta = [0.25]\n",
        "\n",
        "\n",
        "    lambda_value = sample_beta_distribution(1, alpha, beta)\n",
        "\n",
        "\n",
        "    lambda_value = lambda_value[0][0]\n",
        "\n",
        "\n",
        "    boundaryx1, boundaryy1, target_h, target_w = get_box(lambda_value)\n",
        "\n",
        "\n",
        "    crop2 = tf.image.crop_to_bounding_box(\n",
        "        image2, boundaryy1, boundaryx1, target_h, target_w\n",
        "    )\n",
        "\n",
        "    image2 = tf.image.pad_to_bounding_box(\n",
        "        crop2, boundaryy1, boundaryx1, IMG_SIZE, IMG_SIZE\n",
        "    )\n",
        "\n",
        "    crop1 = tf.image.crop_to_bounding_box(\n",
        "        image1, boundaryy1, boundaryx1, target_h, target_w\n",
        "    )\n",
        "\n",
        "    img1 = tf.image.pad_to_bounding_box(\n",
        "        crop1, boundaryy1, boundaryx1, IMG_SIZE, IMG_SIZE\n",
        "    )\n",
        "\n",
        "\n",
        "    image1 = image1 - img1\n",
        "\n",
        "    image = image1 + image2\n",
        "\n",
        "\n",
        "    lambda_value = 1 - (target_w * target_h) / (IMG_SIZE * IMG_SIZE)\n",
        "    lambda_value = tf.cast(lambda_value, tf.float32)\n",
        "\n",
        "\n",
        "    label = lambda_value * label1 + (1 - lambda_value) * label2\n",
        "    return image, label\n"
      ],
      "execution_count": 42,
      "outputs": []
    },
    {
      "cell_type": "code",
      "metadata": {
        "colab": {
          "base_uri": "https://localhost:8080/",
          "height": 591
        },
        "id": "eJ4knz6u6h4t",
        "outputId": "a907fc25-158d-40b3-8407-a53fea4cb382"
      },
      "source": [
        "train_ds_cmu = (\n",
        "    train_ds.shuffle(1024)\n",
        "    .map(cutmix, num_parallel_calls=AUTO)\n",
        "    .batch(BATCH_SIZE)\n",
        "    .prefetch(AUTO)\n",
        ")\n",
        "\n",
        "\n",
        "image_batch, label_batch = next(iter(train_ds_cmu))\n",
        "plt.figure(figsize=(10, 10))\n",
        "for i in range(9):\n",
        "    ax = plt.subplot(3, 3, i + 1)\n",
        "    plt.title(class_names[np.argmax(label_batch[i])])\n",
        "    plt.imshow(image_batch[i])\n",
        "    plt.axis(\"off\")"
      ],
      "execution_count": 43,
      "outputs": [
        {
          "output_type": "display_data",
          "data": {
            "image/png": "[encoded data removed]",
            "text/plain": [
              "<Figure size 720x720 with 9 Axes>"
            ]
          },
          "metadata": {
            "tags": [],
            "needs_background": "light"
          }
        }
      ]
    },
    {
      "cell_type": "code",
      "metadata": {
        "id": "ZA2fkUqq6k2J"
      },
      "source": [
        "def resnet_layer(\n",
        "    inputs,\n",
        "    num_filters=16,\n",
        "    kernel_size=3,\n",
        "    strides=1,\n",
        "    activation=\"relu\",\n",
        "    batch_normalization=True,\n",
        "    conv_first=True,\n",
        "):\n",
        "    conv = keras.layers.Conv2D(\n",
        "        num_filters,\n",
        "        kernel_size=kernel_size,\n",
        "        strides=strides,\n",
        "        padding=\"same\",\n",
        "        kernel_initializer=\"he_normal\",\n",
        "        kernel_regularizer=keras.regularizers.l2(1e-4),\n",
        "    )\n",
        "    x = inputs\n",
        "    if conv_first:\n",
        "        x = conv(x)\n",
        "        if batch_normalization:\n",
        "            x = keras.layers.BatchNormalization()(x)\n",
        "        if activation is not None:\n",
        "            x = keras.layers.Activation(activation)(x)\n",
        "    else:\n",
        "        if batch_normalization:\n",
        "            x = keras.layers.BatchNormalization()(x)\n",
        "        if activation is not None:\n",
        "            x = keras.layers.Activation(activation)(x)\n",
        "        x = conv(x)\n",
        "    return x\n",
        "\n",
        "\n",
        "def resnet_v20(input_shape, depth, num_classes=10):\n",
        "    if (depth - 2) % 6 != 0:\n",
        "        raise ValueError(\"depth should be 6n+2 (eg 20, 32, 44 in [a])\")\n",
        "\n",
        "    num_filters = 16\n",
        "    num_res_blocks = int((depth - 2) / 6)\n",
        "\n",
        "    inputs = keras.layers.Input(shape=input_shape)\n",
        "    x = resnet_layer(inputs=inputs)\n",
        "\n",
        "    for stack in range(3):\n",
        "        for res_block in range(num_res_blocks):\n",
        "            strides = 1\n",
        "            if stack > 0 and res_block == 0:  \n",
        "                strides = 2  \n",
        "            y = resnet_layer(inputs=x, num_filters=num_filters, strides=strides)\n",
        "            y = resnet_layer(inputs=y, num_filters=num_filters, activation=None)\n",
        "            if stack > 0 and res_block == 0:  \n",
        "\n",
        "                x = resnet_layer(\n",
        "                    inputs=x,\n",
        "                    num_filters=num_filters,\n",
        "                    kernel_size=1,\n",
        "                    strides=strides,\n",
        "                    activation=None,\n",
        "                    batch_normalization=False,\n",
        "                )\n",
        "            x = keras.layers.add([x, y])\n",
        "            x = keras.layers.Activation(\"relu\")(x)\n",
        "        num_filters *= 2\n",
        "\n",
        "\n",
        "    x = keras.layers.AveragePooling2D(pool_size=8)(x)\n",
        "    y = keras.layers.Flatten()(x)\n",
        "    outputs = keras.layers.Dense(\n",
        "        num_classes, activation=\"softmax\", kernel_initializer=\"he_normal\"\n",
        "    )(y)\n",
        "\n",
        "\n",
        "    model = keras.models.Model(inputs=inputs, outputs=outputs)\n",
        "    return model\n",
        "\n",
        "\n",
        "def training_model():\n",
        "    return resnet_v20((32, 32, 3), 20)\n",
        "\n",
        "\n",
        "initial_model = training_model()\n",
        "initial_model.save_weights(\"initial_weights.h5\")"
      ],
      "execution_count": 44,
      "outputs": []
    },
    {
      "cell_type": "code",
      "metadata": {
        "colab": {
          "base_uri": "https://localhost:8080/"
        },
        "id": "LdFCQvgm6wAo",
        "outputId": "b8082905-a739-42a5-9d15-51e4f3041ed2"
      },
      "source": [
        "model = training_model()\n",
        "model.load_weights(\"initial_weights.h5\")\n",
        "\n",
        "model.compile(loss=\"categorical_crossentropy\", optimizer=\"adam\", metrics=[\"accuracy\"])\n",
        "model.fit(train_ds_cmu, validation_data=test_ds, epochs=15)\n",
        "\n",
        "test_loss, test_accuracy = model.evaluate(test_ds)\n",
        "print(\"Test accuracy: {:.2f}%\".format(test_accuracy * 100))"
      ],
      "execution_count": 45,
      "outputs": [
        {
          "output_type": "stream",
          "text": [
            "Epoch 1/15\n",
            "1563/1563 [==============================] - 41s 24ms/step - loss: 1.9125 - accuracy: 0.4115 - val_loss: 1.4686 - val_accuracy: 0.5476\n",
            "Epoch 2/15\n",
            "1563/1563 [==============================] - 39s 25ms/step - loss: 1.6568 - accuracy: 0.5368 - val_loss: 1.5529 - val_accuracy: 0.5112\n",
            "Epoch 3/15\n",
            "1563/1563 [==============================] - 37s 24ms/step - loss: 1.5506 - accuracy: 0.5840 - val_loss: 1.1153 - val_accuracy: 0.6651\n",
            "Epoch 4/15\n",
            "1563/1563 [==============================] - 39s 25ms/step - loss: 1.4898 - accuracy: 0.6152 - val_loss: 1.0737 - val_accuracy: 0.6861\n",
            "Epoch 5/15\n",
            "1563/1563 [==============================] - 38s 24ms/step - loss: 1.4521 - accuracy: 0.6328 - val_loss: 1.2493 - val_accuracy: 0.6293\n",
            "Epoch 6/15\n",
            "1563/1563 [==============================] - 38s 24ms/step - loss: 1.4168 - accuracy: 0.6497 - val_loss: 0.9263 - val_accuracy: 0.7379\n",
            "Epoch 7/15\n",
            "1563/1563 [==============================] - 38s 24ms/step - loss: 1.3928 - accuracy: 0.6595 - val_loss: 1.0466 - val_accuracy: 0.6925\n",
            "Epoch 8/15\n",
            "1563/1563 [==============================] - 39s 25ms/step - loss: 1.3707 - accuracy: 0.6712 - val_loss: 1.0523 - val_accuracy: 0.7045\n",
            "Epoch 9/15\n",
            "1563/1563 [==============================] - 38s 24ms/step - loss: 1.3532 - accuracy: 0.6754 - val_loss: 0.9004 - val_accuracy: 0.7488\n",
            "Epoch 10/15\n",
            "1563/1563 [==============================] - 38s 24ms/step - loss: 1.3399 - accuracy: 0.6856 - val_loss: 1.1027 - val_accuracy: 0.6805\n",
            "Epoch 11/15\n",
            "1563/1563 [==============================] - 38s 24ms/step - loss: 1.3298 - accuracy: 0.6884 - val_loss: 0.8180 - val_accuracy: 0.7945\n",
            "Epoch 12/15\n",
            "1563/1563 [==============================] - 37s 24ms/step - loss: 1.3138 - accuracy: 0.7011 - val_loss: 0.9822 - val_accuracy: 0.7240\n",
            "Epoch 13/15\n",
            "1563/1563 [==============================] - 38s 25ms/step - loss: 1.3073 - accuracy: 0.7016 - val_loss: 0.8183 - val_accuracy: 0.7763\n",
            "Epoch 14/15\n",
            "1563/1563 [==============================] - 38s 24ms/step - loss: 1.2993 - accuracy: 0.7057 - val_loss: 0.9752 - val_accuracy: 0.7257\n",
            "Epoch 15/15\n",
            "1563/1563 [==============================] - 39s 25ms/step - loss: 1.2928 - accuracy: 0.7096 - val_loss: 0.9885 - val_accuracy: 0.7207\n",
            "313/313 [==============================] - 2s 7ms/step - loss: 0.9885 - accuracy: 0.7207\n",
            "Test accuracy: 72.07%\n"
          ],
          "name": "stdout"
        }
      ]
    },
    {
      "cell_type": "code",
      "metadata": {
        "colab": {
          "base_uri": "https://localhost:8080/"
        },
        "id": "_q_d4fHP6ysZ",
        "outputId": "bf61cfde-2d99-4344-c339-9e19625d104e"
      },
      "source": [
        "model = training_model()\n",
        "model.load_weights(\"initial_weights.h5\")\n",
        "model.compile(loss=\"categorical_crossentropy\", optimizer=\"adam\", metrics=[\"accuracy\"])\n",
        "model.fit(train_ds_simple, validation_data=test_ds, epochs=15)\n",
        "\n",
        "test_loss, test_accuracy = model.evaluate(test_ds)\n",
        "print(\"Test accuracy: {:.2f}%\".format(test_accuracy * 100))"
      ],
      "execution_count": 46,
      "outputs": [
        {
          "output_type": "stream",
          "text": [
            "Epoch 1/15\n",
            "1563/1563 [==============================] - 29s 17ms/step - loss: 1.4874 - accuracy: 0.5176 - val_loss: 1.3902 - val_accuracy: 0.5502\n",
            "Epoch 2/15\n",
            "1563/1563 [==============================] - 26s 17ms/step - loss: 1.0815 - accuracy: 0.6731 - val_loss: 1.3472 - val_accuracy: 0.5985\n",
            "Epoch 3/15\n",
            "1563/1563 [==============================] - 26s 17ms/step - loss: 0.9050 - accuracy: 0.7397 - val_loss: 1.1028 - val_accuracy: 0.6742\n",
            "Epoch 4/15\n",
            "1563/1563 [==============================] - 27s 17ms/step - loss: 0.7959 - accuracy: 0.7807 - val_loss: 1.0588 - val_accuracy: 0.7038\n",
            "Epoch 5/15\n",
            "1563/1563 [==============================] - 26s 17ms/step - loss: 0.7181 - accuracy: 0.8151 - val_loss: 1.3050 - val_accuracy: 0.6667\n",
            "Epoch 6/15\n",
            "1563/1563 [==============================] - 27s 17ms/step - loss: 0.6598 - accuracy: 0.8382 - val_loss: 1.3010 - val_accuracy: 0.6650\n",
            "Epoch 7/15\n",
            "1563/1563 [==============================] - 27s 17ms/step - loss: 0.6143 - accuracy: 0.8566 - val_loss: 1.4702 - val_accuracy: 0.6486\n",
            "Epoch 8/15\n",
            "1563/1563 [==============================] - 26s 17ms/step - loss: 0.5798 - accuracy: 0.8748 - val_loss: 1.3709 - val_accuracy: 0.6762\n",
            "Epoch 9/15\n",
            "1563/1563 [==============================] - 27s 17ms/step - loss: 0.5509 - accuracy: 0.8879 - val_loss: 1.2514 - val_accuracy: 0.7221\n",
            "Epoch 10/15\n",
            "1563/1563 [==============================] - 26s 17ms/step - loss: 0.5246 - accuracy: 0.8982 - val_loss: 1.4715 - val_accuracy: 0.7114\n",
            "Epoch 11/15\n",
            "1563/1563 [==============================] - 27s 17ms/step - loss: 0.5120 - accuracy: 0.9072 - val_loss: 1.2213 - val_accuracy: 0.7452\n",
            "Epoch 12/15\n",
            "1563/1563 [==============================] - 26s 17ms/step - loss: 0.5006 - accuracy: 0.9128 - val_loss: 1.6441 - val_accuracy: 0.6651\n",
            "Epoch 13/15\n",
            "1563/1563 [==============================] - 27s 17ms/step - loss: 0.4910 - accuracy: 0.9202 - val_loss: 1.3103 - val_accuracy: 0.7439\n",
            "Epoch 14/15\n",
            "1563/1563 [==============================] - 26s 17ms/step - loss: 0.4894 - accuracy: 0.9216 - val_loss: 1.2945 - val_accuracy: 0.7440\n",
            "Epoch 15/15\n",
            "1563/1563 [==============================] - 27s 17ms/step - loss: 0.4776 - accuracy: 0.9291 - val_loss: 1.2823 - val_accuracy: 0.7333\n",
            "313/313 [==============================] - 2s 7ms/step - loss: 1.2823 - accuracy: 0.7333\n",
            "Test accuracy: 73.33%\n"
          ],
          "name": "stdout"
        }
      ]
    }
  ]
}